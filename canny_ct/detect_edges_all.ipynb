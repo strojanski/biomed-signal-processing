{
 "cells": [
  {
   "cell_type": "markdown",
   "metadata": {},
   "source": [
    "Code to detect edges of all patients in the database"
   ]
  },
  {
   "cell_type": "code",
   "execution_count": 1,
   "metadata": {},
   "outputs": [],
   "source": [
    "from canny_ import canny_detector, resize_image\n",
    "import os\n",
    "import cv2"
   ]
  },
  {
   "cell_type": "code",
   "execution_count": 2,
   "metadata": {},
   "outputs": [],
   "source": [
    "def process_img(img):\n",
    "    img = resize_image(img, (400, 400))\n",
    "    img = canny_detector(img)\n",
    "    return img"
   ]
  },
  {
   "cell_type": "code",
   "execution_count": 3,
   "metadata": {},
   "outputs": [],
   "source": [
    "os.makedirs(\"res/\", exist_ok=True)"
   ]
  },
  {
   "cell_type": "code",
   "execution_count": null,
   "metadata": {},
   "outputs": [
    {
     "name": "stdout",
     "output_type": "stream",
     "text": [
      "data/download/Images-Patient-066259-01/1.2.392.200036.9116.2.5.1.16.1613446658.1314921495.798508/3/0001.png\n",
      "data/download/Images-Patient-066259-01/1.2.392.200036.9116.2.5.1.16.1613446658.1314921495.798508/3/0002.png\n",
      "data/download/Images-Patient-066259-01/1.2.392.200036.9116.2.5.1.16.1613446658.1314921495.798508/3/0003.png\n",
      "data/download/Images-Patient-066259-01/1.2.392.200036.9116.2.5.1.16.1613446658.1314921495.798508/3/0004.png\n",
      "data/download/Images-Patient-066259-01/1.2.392.200036.9116.2.5.1.16.1613446658.1314921495.798508/3/0005.png\n",
      "data/download/Images-Patient-066259-01/1.2.392.200036.9116.2.5.1.16.1613446658.1314921495.798508/3/0006.png\n",
      "data/download/Images-Patient-066259-01/1.2.392.200036.9116.2.5.1.16.1613446658.1314921495.798508/3/0007.png\n",
      "data/download/Images-Patient-066259-01/1.2.392.200036.9116.2.5.1.16.1613446658.1314921495.798508/3/0008.png\n",
      "data/download/Images-Patient-066259-01/1.2.392.200036.9116.2.5.1.16.1613446658.1314921495.798508/3/0009.png\n",
      "data/download/Images-Patient-066259-01/1.2.392.200036.9116.2.5.1.16.1613446658.1314921495.798508/3/0010.png\n",
      "data/download/Images-Patient-066259-01/1.2.392.200036.9116.2.5.1.16.1613446658.1314921495.798508/3/0011.png\n",
      "data/download/Images-Patient-066259-01/1.2.392.200036.9116.2.5.1.16.1613446658.1314921495.798508/3/0012.png\n",
      "data/download/Images-Patient-066259-01/1.2.392.200036.9116.2.5.1.16.1613446658.1314921495.798508/3/0013.png\n",
      "data/download/Images-Patient-066259-01/1.2.392.200036.9116.2.5.1.16.1613446658.1314921495.798508/3/0014.png\n",
      "data/download/Images-Patient-066259-01/1.2.392.200036.9116.2.5.1.16.1613446658.1314921495.798508/3/0015.png\n",
      "data/download/Images-Patient-066259-01/1.2.392.200036.9116.2.5.1.16.1613446658.1314921495.798508/3/0016.png\n",
      "data/download/Images-Patient-066259-01/1.2.392.200036.9116.2.5.1.16.1613446658.1314921495.798508/3/0017.png\n",
      "data/download/Images-Patient-066259-01/1.2.392.200036.9116.2.5.1.16.1613446658.1314921495.798508/3/0018.png\n",
      "data/download/Images-Patient-066259-01/1.2.392.200036.9116.2.5.1.16.1613446658.1314921495.798508/3/0019.png\n",
      "data/download/Images-Patient-066259-01/1.2.392.200036.9116.2.5.1.16.1613446658.1314921495.798508/3/0020.png\n",
      "data/download/Images-Patient-066259-01/1.2.392.200036.9116.2.5.1.16.1613446658.1314921495.798508/3/0021.png\n",
      "data/download/Images-Patient-066259-01/1.2.392.200036.9116.2.5.1.16.1613446658.1314921495.798508/3/0022.png\n",
      "data/download/Images-Patient-066259-01/1.2.392.200036.9116.2.5.1.16.1613446658.1314921495.798508/3/0023.png\n",
      "data/download/Images-Patient-066259-01/1.2.392.200036.9116.2.5.1.16.1613446658.1314921495.798508/3/0024.png\n",
      "data/download/Images-Patient-066259-01/1.2.392.200036.9116.2.5.1.16.1613446658.1314921495.798508/3/0025.png\n",
      "data/download/Images-Patient-066259-01/1.2.392.200036.9116.2.5.1.16.1613446658.1314921495.798508/3/0026.png\n",
      "data/download/Images-Patient-066259-01/1.2.392.200036.9116.2.5.1.16.1613446658.1314921495.798508/3/0027.png\n",
      "data/download/Images-Patient-066259-01/1.2.392.200036.9116.2.5.1.16.1613446658.1314921495.798508/3/0028.png\n",
      "data/download/Images-Patient-066259-01/1.2.392.200036.9116.2.5.1.16.1613446658.1314921495.798508/3/0029.png\n",
      "data/download/Images-Patient-066259-01/1.2.392.200036.9116.2.5.1.16.1613446658.1314921495.798508/3/0030.png\n",
      "data/download/Images-Patient-066259-01/1.2.392.200036.9116.2.5.1.16.1613446658.1314921495.798508/3/0031.png\n",
      "data/download/Images-Patient-066259-01/1.2.392.200036.9116.2.5.1.16.1613446658.1314921495.798508/3/0032.png\n",
      "data/download/Images-Patient-066259-01/1.2.392.200036.9116.2.5.1.16.1613446658.1314921495.798508/3/0033.png\n",
      "data/download/Images-Patient-066259-01/1.2.392.200036.9116.2.5.1.16.1613446658.1314921495.798508/3/0034.png\n",
      "data/download/Images-Patient-066259-01/1.2.392.200036.9116.2.5.1.16.1613446658.1314921495.798508/3/0035.png\n",
      "data/download/Images-Patient-066259-01/1.2.392.200036.9116.2.5.1.16.1613446658.1314921495.798508/3/0036.png\n",
      "data/download/Images-Patient-066259-01/1.2.392.200036.9116.2.5.1.16.1613446658.1314921495.798508/3/0037.png\n",
      "data/download/Images-Patient-066259-01/1.2.392.200036.9116.2.5.1.16.1613446658.1314921495.798508/3/0038.png\n",
      "data/download/Images-Patient-066259-01/1.2.392.200036.9116.2.5.1.16.1613446658.1314921495.798508/3/0039.png\n",
      "data/download/Images-Patient-066259-01/1.2.392.200036.9116.2.5.1.16.1613446658.1314921495.798508/3/0040.png\n",
      "data/download/Images-Patient-066259-01/1.2.392.200036.9116.2.5.1.16.1613446658.1314921495.798508/3/0041.png\n"
     ]
    }
   ],
   "source": [
    "# path = \"data/download/Images-Patient-066259-01/1.2.392.200036.9116.2.5.1.16.1613446658.1314921495.798508/3\"\n",
    "# for i, img in enumerate(os.listdir(path)):\n",
    "#     if len(os.listdir(path)) < 2:\n",
    "#         continue\n",
    "#     img_path = path + \"/\" +  img\n",
    "#     print(img_path)\n",
    "#     img = cv2.imread(img_path)\n",
    "#     img = process_img(img)\n",
    "#     os.makedirs(f\"body/\", exist_ok=True)\n",
    "#     cv2.imwrite(f\"body/{i:04d}.png\", img)"
   ]
  },
  {
   "cell_type": "code",
   "execution_count": 13,
   "metadata": {},
   "outputs": [],
   "source": [
    "path = \"data/download/\"\n",
    "sub = os.listdir(path)[0]\n",
    "for sub in os.listdir(path):\n",
    "    sub_path = path + sub + \"/\"\n",
    "    sub_path = sub_path + os.listdir(sub_path)[0] + \"/\"\n",
    "    for stack in os.listdir(sub_path):\n",
    "        stack_path = sub_path + stack + \"/\"\n",
    "        for i, img in enumerate(os.listdir(stack_path)):\n",
    "            if len(os.listdir(stack_path)) < 2:\n",
    "                continue\n",
    "            img_path = stack_path + img\n",
    "            \n",
    "            img = cv2.imread(img_path)\n",
    "            img = process_img(img)\n",
    "            os.makedirs(f\"res/{sub}/{stack}/\", exist_ok=True)\n",
    "            cv2.imwrite(f\"res/{sub}/{stack}/{i}.png\", img)"
   ]
  },
  {
   "cell_type": "code",
   "execution_count": 14,
   "metadata": {},
   "outputs": [
    {
     "ename": "TypeError",
     "evalue": "unsupported operand type(s) for *: 'NoneType' and 'int'",
     "output_type": "error",
     "traceback": [
      "\u001b[1;31m---------------------------------------------------------------------------\u001b[0m",
      "\u001b[1;31mTypeError\u001b[0m                                 Traceback (most recent call last)",
      "Cell \u001b[1;32mIn[14], line 3\u001b[0m\n\u001b[0;32m      1\u001b[0m \u001b[38;5;28;01mimport\u001b[39;00m \u001b[38;5;21;01mmatplotlib\u001b[39;00m\u001b[38;5;21;01m.\u001b[39;00m\u001b[38;5;21;01mpyplot\u001b[39;00m \u001b[38;5;28;01mas\u001b[39;00m \u001b[38;5;21;01mplt\u001b[39;00m\n\u001b[0;32m      2\u001b[0m \u001b[38;5;28;01mimport\u001b[39;00m \u001b[38;5;21;01mnumpy\u001b[39;00m \u001b[38;5;28;01mas\u001b[39;00m \u001b[38;5;21;01mnp\u001b[39;00m\n\u001b[1;32m----> 3\u001b[0m img \u001b[38;5;241m=\u001b[39m \u001b[43mcv2\u001b[49m\u001b[38;5;241;43m.\u001b[39;49m\u001b[43mimread\u001b[49m\u001b[43m(\u001b[49m\u001b[38;5;124;43m\"\u001b[39;49m\u001b[38;5;124;43mres/Images-Patient-000302-01/2/3.png\u001b[39;49m\u001b[38;5;124;43m\"\u001b[39;49m\u001b[43m)\u001b[49m\u001b[43m \u001b[49m\u001b[38;5;241;43m*\u001b[39;49m\u001b[43m \u001b[49m\u001b[38;5;241;43m255\u001b[39;49m\n\u001b[0;32m      4\u001b[0m \u001b[38;5;28mprint\u001b[39m(np\u001b[38;5;241m.\u001b[39mmax(img))\n\u001b[0;32m      5\u001b[0m plt\u001b[38;5;241m.\u001b[39mimshow(img)\n",
      "\u001b[1;31mTypeError\u001b[0m: unsupported operand type(s) for *: 'NoneType' and 'int'"
     ]
    }
   ],
   "source": [
    "import matplotlib.pyplot as plt\n",
    "import numpy as np\n",
    "img = cv2.imread(\"res/Images-Patient-000302-01/2/3.png\") * 255\n",
    "print(np.max(img))\n",
    "plt.imshow(img)"
   ]
  }
 ],
 "metadata": {
  "kernelspec": {
   "display_name": ".venv",
   "language": "python",
   "name": "python3"
  },
  "language_info": {
   "codemirror_mode": {
    "name": "ipython",
    "version": 3
   },
   "file_extension": ".py",
   "mimetype": "text/x-python",
   "name": "python",
   "nbconvert_exporter": "python",
   "pygments_lexer": "ipython3",
   "version": "3.10.15"
  }
 },
 "nbformat": 4,
 "nbformat_minor": 2
}
