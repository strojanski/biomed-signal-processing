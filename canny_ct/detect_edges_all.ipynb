{
 "cells": [
  {
   "cell_type": "markdown",
   "metadata": {},
   "source": [
    "Code to detect edges of all patients in the database"
   ]
  },
  {
   "cell_type": "code",
   "execution_count": 25,
   "metadata": {},
   "outputs": [],
   "source": [
    "from canny_ import canny_detector, resize_image\n",
    "import os\n",
    "import cv2"
   ]
  },
  {
   "cell_type": "code",
   "execution_count": 27,
   "metadata": {},
   "outputs": [],
   "source": [
    "def process_img(img):\n",
    "    img = resize_image(img, (400, 400))\n",
    "    img = canny_detector(img)\n",
    "    return img"
   ]
  },
  {
   "cell_type": "code",
   "execution_count": 28,
   "metadata": {},
   "outputs": [],
   "source": [
    "os.makedirs(\"res/\", exist_ok=True)"
   ]
  },
  {
   "cell_type": "code",
   "execution_count": null,
   "metadata": {},
   "outputs": [],
   "source": [
    "path = \"data/download/\"\n",
    "sub = os.listdir(path)[0]\n",
    "for sub in os.listdir(path):\n",
    "    sub_path = path + sub + \"/\"\n",
    "    sub_path = sub_path + os.listdir(sub_path)[0] + \"/\"\n",
    "    for stack in os.listdir(sub_path):\n",
    "        stack_path = sub_path + stack + \"/\"\n",
    "        for i, img in enumerate(os.listdir(stack_path)):\n",
    "            if len(os.listdir(stack_path)) < 2:\n",
    "                continue\n",
    "            img_path = stack_path + img\n",
    "            \n",
    "            img = cv2.imread(img_path)\n",
    "            img = process_img(img)\n",
    "            os.makedirs(f\"res/{sub}/{stack}/\", exist_ok=True)\n",
    "            cv2.imwrite(f\"res/{sub}/{stack}/{i}.png\", img)"
   ]
  },
  {
   "cell_type": "code",
   "execution_count": null,
   "metadata": {},
   "outputs": [],
   "source": [
    "import matplotlib.pyplot as plt\n",
    "import numpy as np\n",
    "img = cv2.imread(\"res/Images-Patient-000302-01/2/3.png\") * 255\n",
    "print(np.max(img))\n",
    "plt.imshow(img)"
   ]
  }
 ],
 "metadata": {
  "kernelspec": {
   "display_name": ".venv",
   "language": "python",
   "name": "python3"
  },
  "language_info": {
   "codemirror_mode": {
    "name": "ipython",
    "version": 3
   },
   "file_extension": ".py",
   "mimetype": "text/x-python",
   "name": "python",
   "nbconvert_exporter": "python",
   "pygments_lexer": "ipython3",
   "version": "3.10.15"
  }
 },
 "nbformat": 4,
 "nbformat_minor": 2
}
