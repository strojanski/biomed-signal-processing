{
 "cells": [
  {
   "cell_type": "code",
   "execution_count": 2,
   "metadata": {},
   "outputs": [],
   "source": [
    "import os"
   ]
  },
  {
   "cell_type": "code",
   "execution_count": 3,
   "metadata": {},
   "outputs": [],
   "source": [
    "n_files = os.listdir(\"data/mit-bih-arrhythmia-database-1.0.0/\")\n",
    "n_files = set([f.split(\".\")[0] for f in n_files])"
   ]
  },
  {
   "cell_type": "code",
   "execution_count": null,
   "metadata": {},
   "outputs": [
    {
     "data": {
      "text/plain": [
       "54"
      ]
     },
     "execution_count": 4,
     "metadata": {},
     "output_type": "execute_result"
    }
   ],
   "source": []
  },
  {
   "cell_type": "code",
   "execution_count": 5,
   "metadata": {},
   "outputs": [
    {
     "data": {
      "text/plain": [
       "{'100',\n",
       " '101',\n",
       " '102',\n",
       " '102-0',\n",
       " '103',\n",
       " '104',\n",
       " '105',\n",
       " '106',\n",
       " '107',\n",
       " '108',\n",
       " '109',\n",
       " '111',\n",
       " '112',\n",
       " '113',\n",
       " '114',\n",
       " '115',\n",
       " '116',\n",
       " '117',\n",
       " '118',\n",
       " '119',\n",
       " '121',\n",
       " '122',\n",
       " '123',\n",
       " '124',\n",
       " '200',\n",
       " '201',\n",
       " '202',\n",
       " '203',\n",
       " '205',\n",
       " '207',\n",
       " '208',\n",
       " '209',\n",
       " '210',\n",
       " '212',\n",
       " '213',\n",
       " '214',\n",
       " '215',\n",
       " '217',\n",
       " '219',\n",
       " '220',\n",
       " '221',\n",
       " '222',\n",
       " '223',\n",
       " '228',\n",
       " '230',\n",
       " '231',\n",
       " '232',\n",
       " '233',\n",
       " '234',\n",
       " 'ANNOTATORS',\n",
       " 'RECORDS',\n",
       " 'SHA256SUMS',\n",
       " 'mitdbdir',\n",
       " 'x_mitdb'}"
      ]
     },
     "execution_count": 5,
     "metadata": {},
     "output_type": "execute_result"
    }
   ],
   "source": [
    "n_files"
   ]
  }
 ],
 "metadata": {
  "kernelspec": {
   "display_name": "qrs_venv",
   "language": "python",
   "name": "python3"
  },
  "language_info": {
   "codemirror_mode": {
    "name": "ipython",
    "version": 3
   },
   "file_extension": ".py",
   "mimetype": "text/x-python",
   "name": "python",
   "nbconvert_exporter": "python",
   "pygments_lexer": "ipython3",
   "version": "3.8.20"
  }
 },
 "nbformat": 4,
 "nbformat_minor": 2
}
